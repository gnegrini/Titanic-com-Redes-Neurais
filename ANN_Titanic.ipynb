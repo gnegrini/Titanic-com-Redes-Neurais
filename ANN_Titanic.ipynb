{
 "cells": [
  {
   "cell_type": "markdown",
   "metadata": {},
   "source": [
    "# Predicting Titanic Survivals"
   ]
  },
  {
   "cell_type": "markdown",
   "metadata": {},
   "source": [
    "Modelagem de uma rede neural para prever sobrevivência do Navio Titanic. Fonte dos dados: https://www.kaggle.com/c/titanic\n",
    "\n",
    "**Alunos:**\n",
    "\n",
    "- Davi Pereira Neto\n",
    "- Giovane N. M. Costa\n",
    "- Henrique A. Batochi\n",
    "\n",
    "\n",
    "Referências: \n",
    "\n",
    "https://www.kdnuggets.com/2016/10/beginners-guide-neural-networks-python-scikit-learn.html/2\n",
    "\n",
    "https://www.kaggle.com/jeffd23/scikit-learn-ml-from-start-to-finish\n",
    "\n",
    "http://scikit-learn.org/stable/modules/neural_networks_supervised.html\n"
   ]
  },
  {
   "cell_type": "markdown",
   "metadata": {},
   "source": [
    "## Dicionário de Dados"
   ]
  },
  {
   "cell_type": "markdown",
   "metadata": {},
   "source": [
    "**Variable:\tDefinition\tKey**\n",
    "\n",
    "**survival:**\tSurvival\t0 = No, 1 = Yes\n",
    "\n",
    "**pclass:**\tTicket class\t1 = 1st, 2 = 2nd, 3 = 3rd\n",
    "\n",
    "**sex:**\tSex\t(female or male)\n",
    "\n",
    "**Age:**\tAge in years\t\n",
    "\n",
    "**sibsp:**\t# of siblings / spouses aboard the Titanic\t\n",
    "\n",
    "**parch:**\t# of parents / children aboard the Titanic\t\n",
    "\n",
    "**ticket:**\tTicket number\t\n",
    "\n",
    "**fare:**\tPassenger fare\t\n",
    "\n",
    "**cabin:**\tCabin number\t\n",
    "\n",
    "**embarked:**\tPort of Embarkation\tC = Cherbourg, Q = Queenstown, S = Southampton\n",
    "\n",
    "\n",
    "**Variable Notes**\n",
    "\n",
    "pclass: A proxy for socio-economic status (SES)\n",
    "1st = Upper\n",
    "2nd = Middle\n",
    "3rd = Lower\n",
    "\n",
    "age: Age is fractional if less than 1. If the age is estimated, is it in the form of xx.5\n",
    "\n",
    "sibsp: The dataset defines family relations in this way...\n",
    "\n",
    "Sibling = brother, sister, stepbrother, stepsister\n",
    "Spouse = husband, wife (mistresses and fiancés were ignored)\n",
    "\n",
    "parch: Some children travelled only with a nanny, therefore parch=0 for them.\n",
    "Parent = mother, father\n",
    "Child = daughter, son, stepdaughter, stepson"
   ]
  },
  {
   "cell_type": "markdown",
   "metadata": {},
   "source": [
    "## Importando Bibliotecas"
   ]
  },
  {
   "cell_type": "code",
   "execution_count": 206,
   "metadata": {
    "collapsed": true
   },
   "outputs": [],
   "source": [
    "import numpy as np # Para trabalhar com vetores e fazer outras operações matemáticas\n",
    "import pandas as pd # Pandas Dataframe: processamento de dados\n",
    "import matplotlib.pyplot as plt # Matplot: gráficos\n",
    "import seaborn as sns #Seaborn: simplica o processo de criar gráficos\n",
    "\n",
    "# Abrir os graficos no navegador em vez de em outra janela\n",
    "%matplotlib inline\n",
    "\n",
    "#Sci-kit Learn: biblioteca de machine learning para python, da qual importamos rede neural (Multilayer Perceptron)\n",
    "from sklearn.neural_network import MLPClassifier "
   ]
  },
  {
   "cell_type": "markdown",
   "metadata": {},
   "source": [
    "## Importando o Dataset"
   ]
  },
  {
   "cell_type": "code",
   "execution_count": 207,
   "metadata": {
    "collapsed": true
   },
   "outputs": [],
   "source": [
    "# Criamos um Pandas Dataframe a partir do csv. \n",
    "# Dataframe é tipo uma Classe para tabelas com várias funções de manipulação\n",
    "data = pd.read_csv('train.csv')"
   ]
  },
  {
   "cell_type": "code",
   "execution_count": 208,
   "metadata": {},
   "outputs": [
    {
     "data": {
      "text/html": [
       "<div>\n",
       "<style>\n",
       "    .dataframe thead tr:only-child th {\n",
       "        text-align: right;\n",
       "    }\n",
       "\n",
       "    .dataframe thead th {\n",
       "        text-align: left;\n",
       "    }\n",
       "\n",
       "    .dataframe tbody tr th {\n",
       "        vertical-align: top;\n",
       "    }\n",
       "</style>\n",
       "<table border=\"1\" class=\"dataframe\">\n",
       "  <thead>\n",
       "    <tr style=\"text-align: right;\">\n",
       "      <th></th>\n",
       "      <th>PassengerId</th>\n",
       "      <th>Survived</th>\n",
       "      <th>Pclass</th>\n",
       "      <th>Name</th>\n",
       "      <th>Sex</th>\n",
       "      <th>Age</th>\n",
       "      <th>SibSp</th>\n",
       "      <th>Parch</th>\n",
       "      <th>Ticket</th>\n",
       "      <th>Fare</th>\n",
       "      <th>Cabin</th>\n",
       "      <th>Embarked</th>\n",
       "    </tr>\n",
       "  </thead>\n",
       "  <tbody>\n",
       "    <tr>\n",
       "      <th>634</th>\n",
       "      <td>635</td>\n",
       "      <td>0</td>\n",
       "      <td>3</td>\n",
       "      <td>Skoog, Miss. Mabel</td>\n",
       "      <td>female</td>\n",
       "      <td>9.0</td>\n",
       "      <td>3</td>\n",
       "      <td>2</td>\n",
       "      <td>347088</td>\n",
       "      <td>27.9000</td>\n",
       "      <td>NaN</td>\n",
       "      <td>S</td>\n",
       "    </tr>\n",
       "    <tr>\n",
       "      <th>357</th>\n",
       "      <td>358</td>\n",
       "      <td>0</td>\n",
       "      <td>2</td>\n",
       "      <td>Funk, Miss. Annie Clemmer</td>\n",
       "      <td>female</td>\n",
       "      <td>38.0</td>\n",
       "      <td>0</td>\n",
       "      <td>0</td>\n",
       "      <td>237671</td>\n",
       "      <td>13.0000</td>\n",
       "      <td>NaN</td>\n",
       "      <td>S</td>\n",
       "    </tr>\n",
       "    <tr>\n",
       "      <th>354</th>\n",
       "      <td>355</td>\n",
       "      <td>0</td>\n",
       "      <td>3</td>\n",
       "      <td>Yousif, Mr. Wazli</td>\n",
       "      <td>male</td>\n",
       "      <td>NaN</td>\n",
       "      <td>0</td>\n",
       "      <td>0</td>\n",
       "      <td>2647</td>\n",
       "      <td>7.2250</td>\n",
       "      <td>NaN</td>\n",
       "      <td>C</td>\n",
       "    </tr>\n",
       "    <tr>\n",
       "      <th>743</th>\n",
       "      <td>744</td>\n",
       "      <td>0</td>\n",
       "      <td>3</td>\n",
       "      <td>McNamee, Mr. Neal</td>\n",
       "      <td>male</td>\n",
       "      <td>24.0</td>\n",
       "      <td>1</td>\n",
       "      <td>0</td>\n",
       "      <td>376566</td>\n",
       "      <td>16.1000</td>\n",
       "      <td>NaN</td>\n",
       "      <td>S</td>\n",
       "    </tr>\n",
       "    <tr>\n",
       "      <th>284</th>\n",
       "      <td>285</td>\n",
       "      <td>0</td>\n",
       "      <td>1</td>\n",
       "      <td>Smith, Mr. Richard William</td>\n",
       "      <td>male</td>\n",
       "      <td>NaN</td>\n",
       "      <td>0</td>\n",
       "      <td>0</td>\n",
       "      <td>113056</td>\n",
       "      <td>26.0000</td>\n",
       "      <td>A19</td>\n",
       "      <td>S</td>\n",
       "    </tr>\n",
       "    <tr>\n",
       "      <th>277</th>\n",
       "      <td>278</td>\n",
       "      <td>0</td>\n",
       "      <td>2</td>\n",
       "      <td>Parkes, Mr. Francis \"Frank\"</td>\n",
       "      <td>male</td>\n",
       "      <td>NaN</td>\n",
       "      <td>0</td>\n",
       "      <td>0</td>\n",
       "      <td>239853</td>\n",
       "      <td>0.0000</td>\n",
       "      <td>NaN</td>\n",
       "      <td>S</td>\n",
       "    </tr>\n",
       "    <tr>\n",
       "      <th>117</th>\n",
       "      <td>118</td>\n",
       "      <td>0</td>\n",
       "      <td>2</td>\n",
       "      <td>Turpin, Mr. William John Robert</td>\n",
       "      <td>male</td>\n",
       "      <td>29.0</td>\n",
       "      <td>1</td>\n",
       "      <td>0</td>\n",
       "      <td>11668</td>\n",
       "      <td>21.0000</td>\n",
       "      <td>NaN</td>\n",
       "      <td>S</td>\n",
       "    </tr>\n",
       "    <tr>\n",
       "      <th>823</th>\n",
       "      <td>824</td>\n",
       "      <td>1</td>\n",
       "      <td>3</td>\n",
       "      <td>Moor, Mrs. (Beila)</td>\n",
       "      <td>female</td>\n",
       "      <td>27.0</td>\n",
       "      <td>0</td>\n",
       "      <td>1</td>\n",
       "      <td>392096</td>\n",
       "      <td>12.4750</td>\n",
       "      <td>E121</td>\n",
       "      <td>S</td>\n",
       "    </tr>\n",
       "    <tr>\n",
       "      <th>769</th>\n",
       "      <td>770</td>\n",
       "      <td>0</td>\n",
       "      <td>3</td>\n",
       "      <td>Gronnestad, Mr. Daniel Danielsen</td>\n",
       "      <td>male</td>\n",
       "      <td>32.0</td>\n",
       "      <td>0</td>\n",
       "      <td>0</td>\n",
       "      <td>8471</td>\n",
       "      <td>8.3625</td>\n",
       "      <td>NaN</td>\n",
       "      <td>S</td>\n",
       "    </tr>\n",
       "    <tr>\n",
       "      <th>16</th>\n",
       "      <td>17</td>\n",
       "      <td>0</td>\n",
       "      <td>3</td>\n",
       "      <td>Rice, Master. Eugene</td>\n",
       "      <td>male</td>\n",
       "      <td>2.0</td>\n",
       "      <td>4</td>\n",
       "      <td>1</td>\n",
       "      <td>382652</td>\n",
       "      <td>29.1250</td>\n",
       "      <td>NaN</td>\n",
       "      <td>Q</td>\n",
       "    </tr>\n",
       "  </tbody>\n",
       "</table>\n",
       "</div>"
      ],
      "text/plain": [
       "     PassengerId  Survived  Pclass                              Name     Sex  \\\n",
       "634          635         0       3                Skoog, Miss. Mabel  female   \n",
       "357          358         0       2         Funk, Miss. Annie Clemmer  female   \n",
       "354          355         0       3                 Yousif, Mr. Wazli    male   \n",
       "743          744         0       3                 McNamee, Mr. Neal    male   \n",
       "284          285         0       1        Smith, Mr. Richard William    male   \n",
       "277          278         0       2       Parkes, Mr. Francis \"Frank\"    male   \n",
       "117          118         0       2   Turpin, Mr. William John Robert    male   \n",
       "823          824         1       3                Moor, Mrs. (Beila)  female   \n",
       "769          770         0       3  Gronnestad, Mr. Daniel Danielsen    male   \n",
       "16            17         0       3              Rice, Master. Eugene    male   \n",
       "\n",
       "      Age  SibSp  Parch  Ticket     Fare Cabin Embarked  \n",
       "634   9.0      3      2  347088  27.9000   NaN        S  \n",
       "357  38.0      0      0  237671  13.0000   NaN        S  \n",
       "354   NaN      0      0    2647   7.2250   NaN        C  \n",
       "743  24.0      1      0  376566  16.1000   NaN        S  \n",
       "284   NaN      0      0  113056  26.0000   A19        S  \n",
       "277   NaN      0      0  239853   0.0000   NaN        S  \n",
       "117  29.0      1      0   11668  21.0000   NaN        S  \n",
       "823  27.0      0      1  392096  12.4750  E121        S  \n",
       "769  32.0      0      0    8471   8.3625   NaN        S  \n",
       "16    2.0      4      1  382652  29.1250   NaN        Q  "
      ]
     },
     "execution_count": 208,
     "metadata": {},
     "output_type": "execute_result"
    }
   ],
   "source": [
    "# Pegamos 15 amostras dos dados para dar uma olhada\n",
    "data.sample(10)"
   ]
  },
  {
   "cell_type": "code",
   "execution_count": 209,
   "metadata": {},
   "outputs": [
    {
     "data": {
      "text/html": [
       "<div>\n",
       "<style>\n",
       "    .dataframe thead tr:only-child th {\n",
       "        text-align: right;\n",
       "    }\n",
       "\n",
       "    .dataframe thead th {\n",
       "        text-align: left;\n",
       "    }\n",
       "\n",
       "    .dataframe tbody tr th {\n",
       "        vertical-align: top;\n",
       "    }\n",
       "</style>\n",
       "<table border=\"1\" class=\"dataframe\">\n",
       "  <thead>\n",
       "    <tr style=\"text-align: right;\">\n",
       "      <th></th>\n",
       "      <th>PassengerId</th>\n",
       "      <th>Survived</th>\n",
       "      <th>Pclass</th>\n",
       "      <th>Age</th>\n",
       "      <th>SibSp</th>\n",
       "      <th>Parch</th>\n",
       "      <th>Fare</th>\n",
       "    </tr>\n",
       "  </thead>\n",
       "  <tbody>\n",
       "    <tr>\n",
       "      <th>count</th>\n",
       "      <td>891.000000</td>\n",
       "      <td>891.000000</td>\n",
       "      <td>891.000000</td>\n",
       "      <td>714.000000</td>\n",
       "      <td>891.000000</td>\n",
       "      <td>891.000000</td>\n",
       "      <td>891.000000</td>\n",
       "    </tr>\n",
       "    <tr>\n",
       "      <th>mean</th>\n",
       "      <td>446.000000</td>\n",
       "      <td>0.383838</td>\n",
       "      <td>2.308642</td>\n",
       "      <td>29.699118</td>\n",
       "      <td>0.523008</td>\n",
       "      <td>0.381594</td>\n",
       "      <td>32.204208</td>\n",
       "    </tr>\n",
       "    <tr>\n",
       "      <th>std</th>\n",
       "      <td>257.353842</td>\n",
       "      <td>0.486592</td>\n",
       "      <td>0.836071</td>\n",
       "      <td>14.526497</td>\n",
       "      <td>1.102743</td>\n",
       "      <td>0.806057</td>\n",
       "      <td>49.693429</td>\n",
       "    </tr>\n",
       "    <tr>\n",
       "      <th>min</th>\n",
       "      <td>1.000000</td>\n",
       "      <td>0.000000</td>\n",
       "      <td>1.000000</td>\n",
       "      <td>0.420000</td>\n",
       "      <td>0.000000</td>\n",
       "      <td>0.000000</td>\n",
       "      <td>0.000000</td>\n",
       "    </tr>\n",
       "    <tr>\n",
       "      <th>25%</th>\n",
       "      <td>223.500000</td>\n",
       "      <td>0.000000</td>\n",
       "      <td>2.000000</td>\n",
       "      <td>20.125000</td>\n",
       "      <td>0.000000</td>\n",
       "      <td>0.000000</td>\n",
       "      <td>7.910400</td>\n",
       "    </tr>\n",
       "    <tr>\n",
       "      <th>50%</th>\n",
       "      <td>446.000000</td>\n",
       "      <td>0.000000</td>\n",
       "      <td>3.000000</td>\n",
       "      <td>28.000000</td>\n",
       "      <td>0.000000</td>\n",
       "      <td>0.000000</td>\n",
       "      <td>14.454200</td>\n",
       "    </tr>\n",
       "    <tr>\n",
       "      <th>75%</th>\n",
       "      <td>668.500000</td>\n",
       "      <td>1.000000</td>\n",
       "      <td>3.000000</td>\n",
       "      <td>38.000000</td>\n",
       "      <td>1.000000</td>\n",
       "      <td>0.000000</td>\n",
       "      <td>31.000000</td>\n",
       "    </tr>\n",
       "    <tr>\n",
       "      <th>max</th>\n",
       "      <td>891.000000</td>\n",
       "      <td>1.000000</td>\n",
       "      <td>3.000000</td>\n",
       "      <td>80.000000</td>\n",
       "      <td>8.000000</td>\n",
       "      <td>6.000000</td>\n",
       "      <td>512.329200</td>\n",
       "    </tr>\n",
       "  </tbody>\n",
       "</table>\n",
       "</div>"
      ],
      "text/plain": [
       "       PassengerId    Survived      Pclass         Age       SibSp  \\\n",
       "count   891.000000  891.000000  891.000000  714.000000  891.000000   \n",
       "mean    446.000000    0.383838    2.308642   29.699118    0.523008   \n",
       "std     257.353842    0.486592    0.836071   14.526497    1.102743   \n",
       "min       1.000000    0.000000    1.000000    0.420000    0.000000   \n",
       "25%     223.500000    0.000000    2.000000   20.125000    0.000000   \n",
       "50%     446.000000    0.000000    3.000000   28.000000    0.000000   \n",
       "75%     668.500000    1.000000    3.000000   38.000000    1.000000   \n",
       "max     891.000000    1.000000    3.000000   80.000000    8.000000   \n",
       "\n",
       "            Parch        Fare  \n",
       "count  891.000000  891.000000  \n",
       "mean     0.381594   32.204208  \n",
       "std      0.806057   49.693429  \n",
       "min      0.000000    0.000000  \n",
       "25%      0.000000    7.910400  \n",
       "50%      0.000000   14.454200  \n",
       "75%      0.000000   31.000000  \n",
       "max      6.000000  512.329200  "
      ]
     },
     "execution_count": 209,
     "metadata": {},
     "output_type": "execute_result"
    }
   ],
   "source": [
    "# Estatística básica dos campos numericos do Dataframe\n",
    "# Apenas 38% das pessoas sobreviveram\n",
    "data.describe()"
   ]
  },
  {
   "cell_type": "markdown",
   "metadata": {},
   "source": [
    "## Tratando os dados"
   ]
  },
  {
   "cell_type": "markdown",
   "metadata": {},
   "source": [
    "### Checando por dados ausentes\n",
    "\n",
    "As variáveis Idade, Cabine e Local de Embarque precisam ser preenchidas"
   ]
  },
  {
   "cell_type": "code",
   "execution_count": 210,
   "metadata": {},
   "outputs": [
    {
     "data": {
      "text/plain": [
       "PassengerId      0\n",
       "Survived         0\n",
       "Pclass           0\n",
       "Name             0\n",
       "Sex              0\n",
       "Age            177\n",
       "SibSp            0\n",
       "Parch            0\n",
       "Ticket           0\n",
       "Fare             0\n",
       "Cabin          687\n",
       "Embarked         2\n",
       "dtype: int64"
      ]
     },
     "execution_count": 210,
     "metadata": {},
     "output_type": "execute_result"
    }
   ],
   "source": [
    "data.apply(lambda x: sum(x.isnull()),axis=0)"
   ]
  },
  {
   "cell_type": "markdown",
   "metadata": {},
   "source": [
    "### Idade\n",
    "\n",
    "Segundo o dataset, existem idades \"quebradas (x.5) que foram estimadas, idades 1 (bebes) e idades ausentes. Para facilitar a análise, preenchemos as idades ausentes com a mediana e as separamos as idades por categorias:\n",
    "\n",
    "Bebê (0 a 5), Criança (5 a 12), Adolescente (12 a 18), Jovem (18 a 25), Jovem Adulto (25 a 35), Adulto (35 a 60), Idoso (60 a 81)"
   ]
  },
  {
   "cell_type": "code",
   "execution_count": 211,
   "metadata": {},
   "outputs": [
    {
     "name": "stdout",
     "output_type": "stream",
     "text": [
      "[  0.42   0.67   0.75   0.83   0.92   1.     2.     3.     4.     5.     6.\n",
      "   7.     8.     9.    10.    11.    12.    13.    14.    14.5   15.    16.\n",
      "  17.    18.    19.    20.    20.5   21.    22.    23.    23.5   24.    24.5\n",
      "  25.    26.    27.    28.    28.5   29.    30.    30.5   31.    32.    32.5\n",
      "  33.    34.    34.5   35.    36.    36.5   37.    38.    39.    40.    40.5\n",
      "  41.    42.    43.    44.    45.    45.5   46.    47.    48.    49.    50.\n",
      "  51.    52.    53.    54.    55.    55.5   56.    57.    58.    59.    60.\n",
      "  61.    62.    63.    64.    65.    66.    70.    70.5   71.    74.    80.\n",
      "    nan]\n",
      "28.0\n"
     ]
    }
   ],
   "source": [
    "print data.Age.sort_values().unique()\n",
    "print data.Age.median()"
   ]
  },
  {
   "cell_type": "code",
   "execution_count": 212,
   "metadata": {},
   "outputs": [],
   "source": [
    "# Preenchemos as idades ausentes com valores negativos com a mediana\n",
    "data.Age = data.Age.fillna(28)\n",
    "\n",
    "# limites dos grupos\n",
    "bins = (0, 5, 12, 18, 25, 35, 60, 120)\n",
    "\n",
    "#nomes dos grupos\n",
    "grupos = ['Bebê'.decode('utf-8'), 'Criança'.decode('utf-8'), 'Adolescente', \n",
    "          'Jovem', 'Jovem Adulto', 'Adulto', 'Idoso']\n",
    "\n",
    "# Cada linha do dataframe tem um indice que a identifica.\n",
    "# Pd.cut faz a categorização atribuindo uma categoria para cada indice\n",
    "categorias = pd.cut(data.Age, bins, labels=grupos)\n",
    "\n",
    "# Atualizamos o campo idade do dataframe com o novo vetor criado\n",
    "data.Age = categorias"
   ]
  },
  {
   "cell_type": "markdown",
   "metadata": {},
   "source": [
    "### Cabine\n",
    "\n",
    "Todas as cabines começam como uma letra, que vão de 'A' a 'G', e uma 'T' . Essa letra pode ser interessante, por isso a separamos dos números e jogamos eles fora. Além disso, também existem valores ausentes que preenchemos com a letra 'N'."
   ]
  },
  {
   "cell_type": "code",
   "execution_count": 213,
   "metadata": {},
   "outputs": [
    {
     "name": "stdout",
     "output_type": "stream",
     "text": [
      "N    687\n",
      "C     59\n",
      "B     47\n",
      "D     33\n",
      "E     32\n",
      "A     15\n",
      "F     13\n",
      "G      4\n",
      "T      1\n",
      "Name: Cabin, dtype: int64\n"
     ]
    }
   ],
   "source": [
    "# Preenchendo valores ausentes\n",
    "data.Cabin = data.Cabin.fillna('N')\n",
    "\n",
    "# Substituindo a Cabine pela primeira letra\n",
    "data.Cabin = data.Cabin.apply(lambda x: x[0])\n",
    "\n",
    "print data.Cabin.value_counts()"
   ]
  },
  {
   "cell_type": "markdown",
   "metadata": {},
   "source": [
    "### Tarifa\n",
    "Simplificamos também as tarifas dividindo em 4 grupos conforme quartis.\n",
    "(Um quartil é qualquer um dos três valores que divide o conjunto ordenado de dados em quatro partes iguais, e assim cada parte representa 1/4 da amostra ou população /Wikipedia)"
   ]
  },
  {
   "cell_type": "code",
   "execution_count": 214,
   "metadata": {},
   "outputs": [
    {
     "data": {
      "text/plain": [
       "count    891.000000\n",
       "mean      32.204208\n",
       "std       49.693429\n",
       "min        0.000000\n",
       "25%        7.910400\n",
       "50%       14.454200\n",
       "75%       31.000000\n",
       "max      512.329200\n",
       "Name: Fare, dtype: float64"
      ]
     },
     "execution_count": 214,
     "metadata": {},
     "output_type": "execute_result"
    }
   ],
   "source": [
    "data.Fare.describe()"
   ]
  },
  {
   "cell_type": "code",
   "execution_count": 215,
   "metadata": {
    "collapsed": true
   },
   "outputs": [],
   "source": [
    "# Preenchendo os valores ausentes\n",
    "data.Fare = data.Fare.fillna(-0.5)\n",
    "\n",
    "# Limites dos quartis conforme a função describe()\n",
    "bins = (-1, 0, 8, 15, 31, 513)\n",
    "\n",
    "# Nome dos grupos\n",
    "grupos = ['Desconhecido', '1_Quartil', '2_Quartil', '3_Quartil', '4_Quartil']\n",
    "\n",
    "# Divisão das categorias\n",
    "categorias = pd.cut(data.Fare, bins, labels=grupos)\n",
    "\n",
    "# Atualizando a coluna\n",
    "data.Fare = categorias"
   ]
  },
  {
   "cell_type": "markdown",
   "metadata": {},
   "source": [
    "### Nome\n",
    "É razoável admitir que o nome de uma pessoa não interefere na probabilidade de sobrevivência dela. No entanto, o prefixo (Mr. Miss, etc..) pode dizer alguma coisa, pois está relacionado ao sexo e estado civíl."
   ]
  },
  {
   "cell_type": "code",
   "execution_count": 216,
   "metadata": {
    "collapsed": true
   },
   "outputs": [],
   "source": [
    "# Ex: Reeves, Mr. David\n",
    "\n",
    "# Pegando o prefixo\n",
    "data['NamePrefix'] = data.Name.apply(lambda x: x.split(' ')[1])"
   ]
  },
  {
   "cell_type": "markdown",
   "metadata": {},
   "source": [
    "### Familia\n",
    "Vamos criar uma variavel familia somando a SibSp e Parch"
   ]
  },
  {
   "cell_type": "code",
   "execution_count": 217,
   "metadata": {
    "collapsed": true
   },
   "outputs": [],
   "source": [
    "data['Family'] = data['SibSp'] + data['Parch']"
   ]
  },
  {
   "cell_type": "markdown",
   "metadata": {},
   "source": [
    "### Local de Embarque\n",
    "A maioria embarcou em Southampton, então vamos preencher os valores com esse local"
   ]
  },
  {
   "cell_type": "code",
   "execution_count": 218,
   "metadata": {},
   "outputs": [
    {
     "name": "stdout",
     "output_type": "stream",
     "text": [
      "S    644\n",
      "C    168\n",
      "Q     77\n",
      "Name: Embarked, dtype: int64\n"
     ]
    }
   ],
   "source": [
    "# Preenchendo valores ausentes\n",
    "print data['Embarked'].value_counts()\n",
    "data.Embarked = data.Embarked.fillna('S')"
   ]
  },
  {
   "cell_type": "markdown",
   "metadata": {},
   "source": [
    "### Eliminando Features\n",
    "\n",
    "Por fim, eliminamos as features irrelevantes para o aprendizado, como o número da passagem, o nome, e o local onde embarcou."
   ]
  },
  {
   "cell_type": "code",
   "execution_count": 219,
   "metadata": {
    "scrolled": true
   },
   "outputs": [
    {
     "data": {
      "text/html": [
       "<div>\n",
       "<style>\n",
       "    .dataframe thead tr:only-child th {\n",
       "        text-align: right;\n",
       "    }\n",
       "\n",
       "    .dataframe thead th {\n",
       "        text-align: left;\n",
       "    }\n",
       "\n",
       "    .dataframe tbody tr th {\n",
       "        vertical-align: top;\n",
       "    }\n",
       "</style>\n",
       "<table border=\"1\" class=\"dataframe\">\n",
       "  <thead>\n",
       "    <tr style=\"text-align: right;\">\n",
       "      <th></th>\n",
       "      <th>Survived</th>\n",
       "      <th>Pclass</th>\n",
       "      <th>Sex</th>\n",
       "      <th>Age</th>\n",
       "      <th>Fare</th>\n",
       "      <th>Cabin</th>\n",
       "      <th>Embarked</th>\n",
       "      <th>NamePrefix</th>\n",
       "      <th>Family</th>\n",
       "    </tr>\n",
       "  </thead>\n",
       "  <tbody>\n",
       "    <tr>\n",
       "      <th>0</th>\n",
       "      <td>0</td>\n",
       "      <td>3</td>\n",
       "      <td>male</td>\n",
       "      <td>Jovem</td>\n",
       "      <td>1_Quartil</td>\n",
       "      <td>N</td>\n",
       "      <td>S</td>\n",
       "      <td>Mr.</td>\n",
       "      <td>1</td>\n",
       "    </tr>\n",
       "    <tr>\n",
       "      <th>1</th>\n",
       "      <td>1</td>\n",
       "      <td>1</td>\n",
       "      <td>female</td>\n",
       "      <td>Adulto</td>\n",
       "      <td>4_Quartil</td>\n",
       "      <td>C</td>\n",
       "      <td>C</td>\n",
       "      <td>Mrs.</td>\n",
       "      <td>1</td>\n",
       "    </tr>\n",
       "    <tr>\n",
       "      <th>2</th>\n",
       "      <td>1</td>\n",
       "      <td>3</td>\n",
       "      <td>female</td>\n",
       "      <td>Jovem Adulto</td>\n",
       "      <td>1_Quartil</td>\n",
       "      <td>N</td>\n",
       "      <td>S</td>\n",
       "      <td>Miss.</td>\n",
       "      <td>0</td>\n",
       "    </tr>\n",
       "    <tr>\n",
       "      <th>3</th>\n",
       "      <td>1</td>\n",
       "      <td>1</td>\n",
       "      <td>female</td>\n",
       "      <td>Jovem Adulto</td>\n",
       "      <td>4_Quartil</td>\n",
       "      <td>C</td>\n",
       "      <td>S</td>\n",
       "      <td>Mrs.</td>\n",
       "      <td>1</td>\n",
       "    </tr>\n",
       "    <tr>\n",
       "      <th>4</th>\n",
       "      <td>0</td>\n",
       "      <td>3</td>\n",
       "      <td>male</td>\n",
       "      <td>Jovem Adulto</td>\n",
       "      <td>2_Quartil</td>\n",
       "      <td>N</td>\n",
       "      <td>S</td>\n",
       "      <td>Mr.</td>\n",
       "      <td>0</td>\n",
       "    </tr>\n",
       "  </tbody>\n",
       "</table>\n",
       "</div>"
      ],
      "text/plain": [
       "   Survived  Pclass     Sex           Age       Fare Cabin Embarked  \\\n",
       "0         0       3    male         Jovem  1_Quartil     N        S   \n",
       "1         1       1  female        Adulto  4_Quartil     C        C   \n",
       "2         1       3  female  Jovem Adulto  1_Quartil     N        S   \n",
       "3         1       1  female  Jovem Adulto  4_Quartil     C        S   \n",
       "4         0       3    male  Jovem Adulto  2_Quartil     N        S   \n",
       "\n",
       "  NamePrefix  Family  \n",
       "0        Mr.       1  \n",
       "1       Mrs.       1  \n",
       "2      Miss.       0  \n",
       "3       Mrs.       1  \n",
       "4        Mr.       0  "
      ]
     },
     "execution_count": 219,
     "metadata": {},
     "output_type": "execute_result"
    }
   ],
   "source": [
    "data = data.drop(['PassengerId', 'Ticket', 'Name', 'SibSp', 'Parch'], axis=1)\n",
    "data.head()"
   ]
  },
  {
   "cell_type": "markdown",
   "metadata": {},
   "source": [
    "## Análise Exploratória\n",
    "\n",
    "Plotamos alguns gráficos para ver como nossas varíaveis se relacionam com a sobrevivência:"
   ]
  },
  {
   "cell_type": "code",
   "execution_count": 220,
   "metadata": {},
   "outputs": [
    {
     "data": {
      "image/png": "[encoded data removed]",
      "text/plain": [
       "<matplotlib.figure.Figure at 0x7f3dd04d3e90>"
      ]
     },
     "metadata": {},
     "output_type": "display_data"
    }
   ],
   "source": [
    "sns.barplot(x=\"Embarked\", y=\"Survived\", data=data);"
   ]
  },
  {
   "cell_type": "code",
   "execution_count": 221,
   "metadata": {},
   "outputs": [
    {
     "data": {
      "image/png": "[encoded data removed]",
      "text/plain": [
       "<matplotlib.figure.Figure at 0x7f3dd0345950>"
      ]
     },
     "metadata": {},
     "output_type": "display_data"
    }
   ],
   "source": [
    "sns.barplot(x=\"Family\", y=\"Survived\", data=data);"
   ]
  },
  {
   "cell_type": "code",
   "execution_count": 222,
   "metadata": {},
   "outputs": [
    {
     "data": {
      "image/png": "[encoded data removed]",
      "text/plain": [
       "<matplotlib.figure.Figure at 0x7f3dd1053a10>"
      ]
     },
     "metadata": {},
     "output_type": "display_data"
    }
   ],
   "source": [
    "sns.barplot(x=\"Pclass\", y=\"Survived\", data=data);"
   ]
  },
  {
   "cell_type": "code",
   "execution_count": 223,
   "metadata": {},
   "outputs": [
    {
     "data": {
      "image/png": "[encoded data removed]",
      "text/plain": [
       "<matplotlib.figure.Figure at 0x7f3dd03b6550>"
      ]
     },
     "metadata": {},
     "output_type": "display_data"
    }
   ],
   "source": [
    "sns.barplot(x=\"Sex\", y=\"Survived\", data=data);"
   ]
  },
  {
   "cell_type": "code",
   "execution_count": 224,
   "metadata": {},
   "outputs": [
    {
     "data": {
      "image/png": "[encoded data removed]",
      "text/plain": [
       "<matplotlib.figure.Figure at 0x7f3dd0aed210>"
      ]
     },
     "metadata": {},
     "output_type": "display_data"
    }
   ],
   "source": [
    "sns.barplot(x=\"Fare\", y=\"Survived\", data=data);"
   ]
  },
  {
   "cell_type": "code",
   "execution_count": 225,
   "metadata": {},
   "outputs": [
    {
     "data": {
      "image/png": "[encoded data removed]",
      "text/plain": [
       "<matplotlib.figure.Figure at 0x7f3dc3b57510>"
      ]
     },
     "metadata": {},
     "output_type": "display_data"
    }
   ],
   "source": [
    "ordem = ['Bebê'.decode('utf-8'), 'Criança'.decode('utf-8'), 'Adolescente', \n",
    "          'Jovem', 'Jovem Adulto', 'Adulto', 'Idoso']\n",
    "plt.xticks(rotation=30)\n",
    "sns.barplot(x=\"Age\", y=\"Survived\", order=ordem, data=data);"
   ]
  },
  {
   "cell_type": "code",
   "execution_count": 226,
   "metadata": {},
   "outputs": [
    {
     "data": {
      "image/png": "[encoded data removed]",
      "text/plain": [
       "<matplotlib.figure.Figure at 0x7f3dd033c950>"
      ]
     },
     "metadata": {},
     "output_type": "display_data"
    }
   ],
   "source": [
    "sns.barplot(x=\"Cabin\", y=\"Survived\", data=data);"
   ]
  },
  {
   "cell_type": "code",
   "execution_count": 227,
   "metadata": {},
   "outputs": [
    {
     "data": {
      "text/plain": [
       "<matplotlib.axes._subplots.AxesSubplot at 0x7f3dc38fe850>"
      ]
     },
     "execution_count": 227,
     "metadata": {},
     "output_type": "execute_result"
    },
    {
     "data": {
      "image/png": "[encoded data removed]",
      "text/plain": [
       "<matplotlib.figure.Figure at 0x7f3dc38fe6d0>"
      ]
     },
     "metadata": {},
     "output_type": "display_data"
    }
   ],
   "source": [
    "plt.figure(figsize=(20,5))\n",
    "plt.xticks(rotation=45)\n",
    "sns.barplot(x=\"NamePrefix\", y=\"Survived\", data=data)"
   ]
  },
  {
   "cell_type": "markdown",
   "metadata": {},
   "source": [
    "Como podemos ver, algumas características se destacam, como:\n",
    "- Familia: pessoas viajando sozinhas ou com mais de 3 familiares tem menos chance de sobreviver;\n",
    "- Sexo: mulheres tem mais chance de sobreviver;\n",
    "- Classe: quanto menor a classe, melhor a chance de sobreviver;\n",
    "- Tarifa: passageiros que pagaram mais tem mais chance de sobreviver;\n",
    "- Idade: idosos, jovens e crianças foram os que menos sobreviveram;    \n",
    "- Cabine: as cabines E, D e B foram as com mais sobreviventes;    \n",
    "- Embarque: pessoas que embarcaram em Cherbourg tem mais chances de sobreviver;"
   ]
  },
  {
   "cell_type": "markdown",
   "metadata": {},
   "source": [
    "## Transformando os Dados\n",
    "\n",
    "Para utilizar em redes neurais, precisamos dos dados em números em vez de strings. Para issos, utilizamos a classe LabelEncoder do Scikit-learn que converte cada string diferente em um número diferente."
   ]
  },
  {
   "cell_type": "code",
   "execution_count": 228,
   "metadata": {},
   "outputs": [
    {
     "data": {
      "text/html": [
       "<div>\n",
       "<style>\n",
       "    .dataframe thead tr:only-child th {\n",
       "        text-align: right;\n",
       "    }\n",
       "\n",
       "    .dataframe thead th {\n",
       "        text-align: left;\n",
       "    }\n",
       "\n",
       "    .dataframe tbody tr th {\n",
       "        vertical-align: top;\n",
       "    }\n",
       "</style>\n",
       "<table border=\"1\" class=\"dataframe\">\n",
       "  <thead>\n",
       "    <tr style=\"text-align: right;\">\n",
       "      <th></th>\n",
       "      <th>Survived</th>\n",
       "      <th>Pclass</th>\n",
       "      <th>Sex</th>\n",
       "      <th>Age</th>\n",
       "      <th>Fare</th>\n",
       "      <th>Cabin</th>\n",
       "      <th>Embarked</th>\n",
       "      <th>NamePrefix</th>\n",
       "      <th>Family</th>\n",
       "    </tr>\n",
       "  </thead>\n",
       "  <tbody>\n",
       "    <tr>\n",
       "      <th>0</th>\n",
       "      <td>0</td>\n",
       "      <td>3</td>\n",
       "      <td>1</td>\n",
       "      <td>5</td>\n",
       "      <td>0</td>\n",
       "      <td>7</td>\n",
       "      <td>2</td>\n",
       "      <td>17</td>\n",
       "      <td>1</td>\n",
       "    </tr>\n",
       "    <tr>\n",
       "      <th>1</th>\n",
       "      <td>1</td>\n",
       "      <td>1</td>\n",
       "      <td>0</td>\n",
       "      <td>1</td>\n",
       "      <td>3</td>\n",
       "      <td>2</td>\n",
       "      <td>0</td>\n",
       "      <td>18</td>\n",
       "      <td>1</td>\n",
       "    </tr>\n",
       "    <tr>\n",
       "      <th>2</th>\n",
       "      <td>1</td>\n",
       "      <td>3</td>\n",
       "      <td>0</td>\n",
       "      <td>6</td>\n",
       "      <td>0</td>\n",
       "      <td>7</td>\n",
       "      <td>2</td>\n",
       "      <td>14</td>\n",
       "      <td>0</td>\n",
       "    </tr>\n",
       "    <tr>\n",
       "      <th>3</th>\n",
       "      <td>1</td>\n",
       "      <td>1</td>\n",
       "      <td>0</td>\n",
       "      <td>6</td>\n",
       "      <td>3</td>\n",
       "      <td>2</td>\n",
       "      <td>2</td>\n",
       "      <td>18</td>\n",
       "      <td>1</td>\n",
       "    </tr>\n",
       "    <tr>\n",
       "      <th>4</th>\n",
       "      <td>0</td>\n",
       "      <td>3</td>\n",
       "      <td>1</td>\n",
       "      <td>6</td>\n",
       "      <td>1</td>\n",
       "      <td>7</td>\n",
       "      <td>2</td>\n",
       "      <td>17</td>\n",
       "      <td>0</td>\n",
       "    </tr>\n",
       "  </tbody>\n",
       "</table>\n",
       "</div>"
      ],
      "text/plain": [
       "   Survived  Pclass  Sex  Age  Fare  Cabin  Embarked  NamePrefix  Family\n",
       "0         0       3    1    5     0      7         2          17       1\n",
       "1         1       1    0    1     3      2         0          18       1\n",
       "2         1       3    0    6     0      7         2          14       0\n",
       "3         1       1    0    6     3      2         2          18       1\n",
       "4         0       3    1    6     1      7         2          17       0"
      ]
     },
     "execution_count": 228,
     "metadata": {},
     "output_type": "execute_result"
    }
   ],
   "source": [
    "from sklearn import preprocessing\n",
    "def encode_features(data):\n",
    "    features = ['Fare', 'Age', 'Sex', 'Cabin', 'NamePrefix', 'Family', 'Embarked']\n",
    "    \n",
    "    for feature in features:\n",
    "        le = preprocessing.LabelEncoder()\n",
    "        le = le.fit(data[feature])\n",
    "        data[feature] = le.transform(data[feature])        \n",
    "    return data\n",
    "    \n",
    "data = encode_features(data)\n",
    "data.head()"
   ]
  },
  {
   "cell_type": "markdown",
   "metadata": {},
   "source": [
    "## Dividindo o Dataset em Treino/Test"
   ]
  },
  {
   "cell_type": "markdown",
   "metadata": {},
   "source": [
    "Precisamos ensinar e testar a rede. Assim, antes dividimos o dataset em quatro:\n",
    "- Primeiro, um dataframe somente com as features que utilizaremos para prever a sobrevivência;\n",
    "- Segundo, um dataframe somente com o valor que queremos prever (se a pessoa sobreviveu ou não);\n",
    "- Finalmente, para cada um desses, dividimos aleatóriamente 20% dos dados para teste e o resto para treino."
   ]
  },
  {
   "cell_type": "code",
   "execution_count": 229,
   "metadata": {
    "collapsed": true
   },
   "outputs": [],
   "source": [
    "from sklearn.model_selection import train_test_split\n",
    "\n",
    "# Cria um dataframe sem a informação sobre sobrevivência\n",
    "X_all = data.drop(['Survived'], axis=1)\n",
    "\n",
    "# Cria um array com o 'target' (se o individuo sobreviveu ou nao -- o que queremos prever)\n",
    "y_all = data['Survived']\n",
    "\n",
    "# Porcentagem dos dados que serão utilizados para teste (20%)\n",
    "num_test = 0.20\n",
    "\n",
    "# Semente utilizada para gerar o numero aleatório e dividir o dataset\n",
    "seed = 23\n",
    "\n",
    "# Divide aleatoriamente os dados em subsets de treino e test\n",
    "X_train, X_test, y_train, y_test = train_test_split(X_all, y_all, test_size=num_test, random_state=seed)"
   ]
  },
  {
   "cell_type": "code",
   "execution_count": 230,
   "metadata": {},
   "outputs": [
    {
     "name": "stdout",
     "output_type": "stream",
     "text": [
      "(712, 8)\n",
      "(179, 8)\n"
     ]
    }
   ],
   "source": [
    "print(X_train.shape)\n",
    "print(X_test.shape)"
   ]
  },
  {
   "cell_type": "markdown",
   "metadata": {},
   "source": [
    "## Feature Scaling\n",
    "\n",
    "Conforme a documentação, o  Multi-layer Perceptron é sensível a 'escala' das variáveis. Ou seja, se uma variável possui variância que sua ordem de magnitude é maior que as outras, ela pode dominar a função objetivo. Assim, recomenda-se 'padronizar' os dados de forma a ter média 0 e variância 1. Para isso utilizamos a função StandardScaler."
   ]
  },
  {
   "cell_type": "code",
   "execution_count": 231,
   "metadata": {
    "collapsed": true
   },
   "outputs": [],
   "source": [
    "from sklearn.preprocessing import StandardScaler  \n",
    "\n",
    "scaler = StandardScaler()  \n",
    "\n",
    "# Don't cheat - fit only on training data\n",
    "scaler.fit(X_train)  \n",
    "X_train = scaler.transform(X_train)  \n",
    "\n",
    "# apply same transformation to test data\n",
    "X_test = scaler.transform(X_test)  "
   ]
  },
  {
   "cell_type": "code",
   "execution_count": 232,
   "metadata": {},
   "outputs": [
    {
     "data": {
      "text/plain": [
       "array([[-1.55453842, -1.33463478,  0.45493896, ...,  0.5930441 ,\n",
       "         0.67645173,  0.04773979],\n",
       "       [ 0.83861046,  0.74926865,  0.45493896, ...,  0.5930441 ,\n",
       "         0.3137758 , -0.5935947 ],\n",
       "       [ 0.83861046,  0.74926865, -1.73664792, ...,  0.5930441 ,\n",
       "         0.3137758 ,  0.68907427],\n",
       "       ..., \n",
       "       [ 0.83861046, -1.33463478, -1.29833054, ...,  0.5930441 ,\n",
       "         0.67645173,  0.04773979],\n",
       "       [-1.55453842, -1.33463478,  0.45493896, ..., -1.89076414,\n",
       "        -0.77425198,  1.97174324],\n",
       "       [ 0.83861046,  0.74926865, -1.29833054, ...,  0.5930441 ,\n",
       "        -2.95030754,  0.68907427]])"
      ]
     },
     "execution_count": 232,
     "metadata": {},
     "output_type": "execute_result"
    }
   ],
   "source": [
    "X_train"
   ]
  },
  {
   "cell_type": "markdown",
   "metadata": {},
   "source": [
    "## Treinando a Rede"
   ]
  },
  {
   "cell_type": "markdown",
   "metadata": {},
   "source": [
    "Primeiramente utilizamos o GridSearchCV para o melhor alpha e numero da neuronios para a rede neural. Depois treinamos a rede e a utilizamos para prever a sobrevivência. Essa parte demora cerca de 30s.\n",
    "\n"
   ]
  },
  {
   "cell_type": "code",
   "execution_count": 233,
   "metadata": {},
   "outputs": [
    {
     "data": {
      "text/plain": [
       "MLPClassifier(activation='tanh', alpha=9.9999999999999995e-07,\n",
       "       batch_size='auto', beta_1=0.9, beta_2=0.999, early_stopping=False,\n",
       "       epsilon=1e-08, hidden_layer_sizes=9, learning_rate='constant',\n",
       "       learning_rate_init='0.001', max_iter=500, momentum=0.9,\n",
       "       nesterovs_momentum=True, power_t=0.5, random_state=1, shuffle=True,\n",
       "       solver='lbfgs', tol=0.0001, validation_fraction=0.1, verbose=False,\n",
       "       warm_start=False)"
      ]
     },
     "execution_count": 233,
     "metadata": {},
     "output_type": "execute_result"
    }
   ],
   "source": [
    "from sklearn.model_selection import GridSearchCV\n",
    "from sklearn.metrics import make_scorer, accuracy_score\n",
    "\n",
    "# Choose the type of classifier. \n",
    "clf = MLPClassifier(max_iter=500, solver='lbfgs', activation='tanh', \n",
    "                    learning_rate_init='0.001', random_state=1)\n",
    "\n",
    "# Choose some parameter combinations to try\n",
    "parameters = {'alpha': 10.0 ** -np.arange(1, 7),\n",
    "                'hidden_layer_sizes': [(9), (10,8), (20,20)]}\n",
    "\n",
    "# Type of scoring used to compare parameter combinations\n",
    "acc_scorer = make_scorer(accuracy_score)\n",
    "\n",
    "# Run the grid search\n",
    "grid_obj = GridSearchCV(clf, parameters, scoring=acc_scorer)\n",
    "grid_obj = grid_obj.fit(X_train, y_train)\n",
    "\n",
    "# Set the clf to the best combination of parameters\n",
    "clf = grid_obj.best_estimator_\n",
    "\n",
    "# Fit the best algorithm to the data. \n",
    "clf.fit(X_train, y_train)"
   ]
  },
  {
   "cell_type": "markdown",
   "metadata": {},
   "source": [
    "## Validando os Resultados com KFold"
   ]
  },
  {
   "cell_type": "code",
   "execution_count": 234,
   "metadata": {},
   "outputs": [
    {
     "name": "stdout",
     "output_type": "stream",
     "text": [
      "Fold 1 accuracy: 0.888888888889\n",
      "Fold 2 accuracy: 0.865168539326\n",
      "Fold 3 accuracy: 0.820224719101\n",
      "Fold 4 accuracy: 0.842696629213\n",
      "Fold 5 accuracy: 0.786516853933\n",
      "Fold 6 accuracy: 0.820224719101\n",
      "Fold 7 accuracy: 0.76404494382\n",
      "Fold 8 accuracy: 0.797752808989\n",
      "Fold 9 accuracy: 0.797752808989\n",
      "Fold 10 accuracy: 0.730337078652\n",
      "Mean Accuracy: 0.811360799001\n"
     ]
    },
    {
     "data": {
      "text/plain": [
       "<matplotlib.axes._subplots.AxesSubplot at 0x7f3dc363de50>"
      ]
     },
     "execution_count": 234,
     "metadata": {},
     "output_type": "execute_result"
    },
    {
     "data": {
      "image/png": "[encoded data removed]",
      "text/plain": [
       "<matplotlib.figure.Figure at 0x7f3dc37c53d0>"
      ]
     },
     "metadata": {},
     "output_type": "display_data"
    }
   ],
   "source": [
    "predictions = clf.predict(X_test)\n",
    "\n",
    "from sklearn.metrics import confusion_matrix\n",
    "from sklearn.model_selection import KFold\n",
    "\n",
    "\n",
    "def run_kfold(clf):\n",
    "    \n",
    "    kf = KFold(n_splits=10, shuffle=True)\n",
    "    outcomes = []\n",
    "    fold = 0\n",
    "    for train_index, test_index in kf.split(data):\n",
    "        fold += 1\n",
    "        X_train2, X_test2 = X_all.values[train_index], X_all.values[test_index]\n",
    "        y_train2, y_test2 = y_all.values[train_index], y_all.values[test_index]\n",
    "        clf.fit(X_train2, y_train2)\n",
    "        predictions = clf.predict(X_test2)\n",
    "        accuracy = accuracy_score(y_test2, predictions)\n",
    "        outcomes.append(accuracy)\n",
    "        print(\"Fold {0} accuracy: {1}\".format(fold, accuracy))     \n",
    "    mean_outcome = np.mean(outcomes)\n",
    "    print(\"Mean Accuracy: {0}\".format(mean_outcome)) \n",
    "\n",
    "run_kfold(clf)\n",
    "\n",
    "mat = confusion_matrix(y_test,predictions)\n",
    "\n",
    "f,ax = plt.subplots(figsize=(6, 6))\n",
    "plt.title('Confusion Matrix'.decode('utf-8'))\n",
    "sns.heatmap(mat, annot=True, linewidths=.5, fmt= 'd',ax=ax, \n",
    "            xticklabels=['Ac_Morte', 'Ac_Sobreviveu'], yticklabels=['Prd_Morte', 'Prd_Sobreviveu'])"
   ]
  }
 ],
 "metadata": {
  "kernelspec": {
   "display_name": "Python 2",
   "language": "python",
   "name": "python2"
  },
  "language_info": {
   "codemirror_mode": {
    "name": "ipython",
    "version": 2
   },
   "file_extension": ".py",
   "mimetype": "text/x-python",
   "name": "python",
   "nbconvert_exporter": "python",
   "pygments_lexer": "ipython2",
   "version": "2.7.13"
  }
 },
 "nbformat": 4,
 "nbformat_minor": 2
}
